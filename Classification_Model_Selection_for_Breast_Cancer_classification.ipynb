{
  "nbformat": 4,
  "nbformat_minor": 0,
  "metadata": {
    "colab": {
      "provenance": [],
      "authorship_tag": "ABX9TyO+/2WMd9xqBVD1Kk2jsiS7"
    },
    "kernelspec": {
      "name": "python3",
      "display_name": "Python 3"
    },
    "language_info": {
      "name": "python"
    }
  },
  "cells": [
    {
      "cell_type": "code",
      "execution_count": 26,
      "metadata": {
        "id": "caWVUD323zzU",
        "colab": {
          "base_uri": "https://localhost:8080/"
        },
        "outputId": "1524c01b-e172-4757-a2f3-e90afc5577a6"
      },
      "outputs": [
        {
          "output_type": "stream",
          "name": "stdout",
          "text": [
            "Mounted at /content/drive\n"
          ]
        }
      ],
      "source": [
        "from google.colab import drive\n",
        "drive.mount('/content/drive' ,force_remount=True)"
      ]
    },
    {
      "cell_type": "code",
      "source": [
        "import numpy as np # linear algebra\n",
        "import pandas as pd # data processing\n",
        "from matplotlib import pyplot\n",
        "import matplotlib.pyplot as plt\n",
        "import seaborn as sns\n",
        "\n",
        "from sklearn.model_selection import train_test_split\n",
        "# Preprocessing :\n",
        "from sklearn.preprocessing import  StandardScaler, LabelEncoder, Normalizer \n",
        "#accruacy\n",
        "from sklearn.metrics import confusion_matrix , ConfusionMatrixDisplay, classification_report,accuracy_score\n"
      ],
      "metadata": {
        "id": "sqwt-d0oDQcR"
      },
      "execution_count": 27,
      "outputs": []
    },
    {
      "cell_type": "code",
      "source": [
        "# Read datasets\n",
        "dataset = pd.read_csv(\"/content/drive/MyDrive/Colab Notebooks/dataset/brest_cancer.csv\")\n",
        "\n",
        "print(dataset.shape)\n",
        "print(dataset.head(5))"
      ],
      "metadata": {
        "id": "0x5kpnn97TW4",
        "colab": {
          "base_uri": "https://localhost:8080/"
        },
        "outputId": "936e6453-35ab-436c-f748-a5b7d0d77097"
      },
      "execution_count": 28,
      "outputs": [
        {
          "output_type": "stream",
          "name": "stdout",
          "text": [
            "(569, 33)\n",
            "         id diagnosis  radius_mean  texture_mean  perimeter_mean  area_mean  \\\n",
            "0    842302         M        17.99         10.38          122.80     1001.0   \n",
            "1    842517         M        20.57         17.77          132.90     1326.0   \n",
            "2  84300903         M        19.69         21.25          130.00     1203.0   \n",
            "3  84348301         M        11.42         20.38           77.58      386.1   \n",
            "4  84358402         M        20.29         14.34          135.10     1297.0   \n",
            "\n",
            "   smoothness_mean  compactness_mean  concavity_mean  concave points_mean  \\\n",
            "0          0.11840           0.27760          0.3001              0.14710   \n",
            "1          0.08474           0.07864          0.0869              0.07017   \n",
            "2          0.10960           0.15990          0.1974              0.12790   \n",
            "3          0.14250           0.28390          0.2414              0.10520   \n",
            "4          0.10030           0.13280          0.1980              0.10430   \n",
            "\n",
            "   ...  texture_worst  perimeter_worst  area_worst  smoothness_worst  \\\n",
            "0  ...          17.33           184.60      2019.0            0.1622   \n",
            "1  ...          23.41           158.80      1956.0            0.1238   \n",
            "2  ...          25.53           152.50      1709.0            0.1444   \n",
            "3  ...          26.50            98.87       567.7            0.2098   \n",
            "4  ...          16.67           152.20      1575.0            0.1374   \n",
            "\n",
            "   compactness_worst  concavity_worst  concave points_worst  symmetry_worst  \\\n",
            "0             0.6656           0.7119                0.2654          0.4601   \n",
            "1             0.1866           0.2416                0.1860          0.2750   \n",
            "2             0.4245           0.4504                0.2430          0.3613   \n",
            "3             0.8663           0.6869                0.2575          0.6638   \n",
            "4             0.2050           0.4000                0.1625          0.2364   \n",
            "\n",
            "   fractal_dimension_worst  Unnamed: 32  \n",
            "0                  0.11890          NaN  \n",
            "1                  0.08902          NaN  \n",
            "2                  0.08758          NaN  \n",
            "3                  0.17300          NaN  \n",
            "4                  0.07678          NaN  \n",
            "\n",
            "[5 rows x 33 columns]\n"
          ]
        }
      ]
    },
    {
      "cell_type": "code",
      "source": [
        "dataset['diagnosis'] = dataset['diagnosis'].map({'B':0, 'M':1}).astype(int)\n",
        "print(dataset.head)\n"
      ],
      "metadata": {
        "colab": {
          "base_uri": "https://localhost:8080/"
        },
        "id": "kr1LfSvXNxgm",
        "outputId": "5d30d8a7-195a-4915-843e-0cfc7040744b"
      },
      "execution_count": 29,
      "outputs": [
        {
          "output_type": "stream",
          "name": "stdout",
          "text": [
            "<bound method NDFrame.head of            id  diagnosis  radius_mean  texture_mean  perimeter_mean  \\\n",
            "0      842302          1        17.99         10.38          122.80   \n",
            "1      842517          1        20.57         17.77          132.90   \n",
            "2    84300903          1        19.69         21.25          130.00   \n",
            "3    84348301          1        11.42         20.38           77.58   \n",
            "4    84358402          1        20.29         14.34          135.10   \n",
            "..        ...        ...          ...           ...             ...   \n",
            "564    926424          1        21.56         22.39          142.00   \n",
            "565    926682          1        20.13         28.25          131.20   \n",
            "566    926954          1        16.60         28.08          108.30   \n",
            "567    927241          1        20.60         29.33          140.10   \n",
            "568     92751          0         7.76         24.54           47.92   \n",
            "\n",
            "     area_mean  smoothness_mean  compactness_mean  concavity_mean  \\\n",
            "0       1001.0          0.11840           0.27760         0.30010   \n",
            "1       1326.0          0.08474           0.07864         0.08690   \n",
            "2       1203.0          0.10960           0.15990         0.19740   \n",
            "3        386.1          0.14250           0.28390         0.24140   \n",
            "4       1297.0          0.10030           0.13280         0.19800   \n",
            "..         ...              ...               ...             ...   \n",
            "564     1479.0          0.11100           0.11590         0.24390   \n",
            "565     1261.0          0.09780           0.10340         0.14400   \n",
            "566      858.1          0.08455           0.10230         0.09251   \n",
            "567     1265.0          0.11780           0.27700         0.35140   \n",
            "568      181.0          0.05263           0.04362         0.00000   \n",
            "\n",
            "     concave points_mean  ...  texture_worst  perimeter_worst  area_worst  \\\n",
            "0                0.14710  ...          17.33           184.60      2019.0   \n",
            "1                0.07017  ...          23.41           158.80      1956.0   \n",
            "2                0.12790  ...          25.53           152.50      1709.0   \n",
            "3                0.10520  ...          26.50            98.87       567.7   \n",
            "4                0.10430  ...          16.67           152.20      1575.0   \n",
            "..                   ...  ...            ...              ...         ...   \n",
            "564              0.13890  ...          26.40           166.10      2027.0   \n",
            "565              0.09791  ...          38.25           155.00      1731.0   \n",
            "566              0.05302  ...          34.12           126.70      1124.0   \n",
            "567              0.15200  ...          39.42           184.60      1821.0   \n",
            "568              0.00000  ...          30.37            59.16       268.6   \n",
            "\n",
            "     smoothness_worst  compactness_worst  concavity_worst  \\\n",
            "0             0.16220            0.66560           0.7119   \n",
            "1             0.12380            0.18660           0.2416   \n",
            "2             0.14440            0.42450           0.4504   \n",
            "3             0.20980            0.86630           0.6869   \n",
            "4             0.13740            0.20500           0.4000   \n",
            "..                ...                ...              ...   \n",
            "564           0.14100            0.21130           0.4107   \n",
            "565           0.11660            0.19220           0.3215   \n",
            "566           0.11390            0.30940           0.3403   \n",
            "567           0.16500            0.86810           0.9387   \n",
            "568           0.08996            0.06444           0.0000   \n",
            "\n",
            "     concave points_worst  symmetry_worst  fractal_dimension_worst  \\\n",
            "0                  0.2654          0.4601                  0.11890   \n",
            "1                  0.1860          0.2750                  0.08902   \n",
            "2                  0.2430          0.3613                  0.08758   \n",
            "3                  0.2575          0.6638                  0.17300   \n",
            "4                  0.1625          0.2364                  0.07678   \n",
            "..                    ...             ...                      ...   \n",
            "564                0.2216          0.2060                  0.07115   \n",
            "565                0.1628          0.2572                  0.06637   \n",
            "566                0.1418          0.2218                  0.07820   \n",
            "567                0.2650          0.4087                  0.12400   \n",
            "568                0.0000          0.2871                  0.07039   \n",
            "\n",
            "     Unnamed: 32  \n",
            "0            NaN  \n",
            "1            NaN  \n",
            "2            NaN  \n",
            "3            NaN  \n",
            "4            NaN  \n",
            "..           ...  \n",
            "564          NaN  \n",
            "565          NaN  \n",
            "566          NaN  \n",
            "567          NaN  \n",
            "568          NaN  \n",
            "\n",
            "[569 rows x 33 columns]>\n"
          ]
        }
      ]
    },
    {
      "cell_type": "code",
      "source": [
        "X=dataset.iloc[:, 2:32].values\n",
        "X"
      ],
      "metadata": {
        "colab": {
          "base_uri": "https://localhost:8080/"
        },
        "id": "QHpXQ84n1lph",
        "outputId": "ed9396f9-a1e0-4d2a-8229-947b2e671c3a"
      },
      "execution_count": 30,
      "outputs": [
        {
          "output_type": "execute_result",
          "data": {
            "text/plain": [
              "array([[1.799e+01, 1.038e+01, 1.228e+02, ..., 2.654e-01, 4.601e-01,\n",
              "        1.189e-01],\n",
              "       [2.057e+01, 1.777e+01, 1.329e+02, ..., 1.860e-01, 2.750e-01,\n",
              "        8.902e-02],\n",
              "       [1.969e+01, 2.125e+01, 1.300e+02, ..., 2.430e-01, 3.613e-01,\n",
              "        8.758e-02],\n",
              "       ...,\n",
              "       [1.660e+01, 2.808e+01, 1.083e+02, ..., 1.418e-01, 2.218e-01,\n",
              "        7.820e-02],\n",
              "       [2.060e+01, 2.933e+01, 1.401e+02, ..., 2.650e-01, 4.087e-01,\n",
              "        1.240e-01],\n",
              "       [7.760e+00, 2.454e+01, 4.792e+01, ..., 0.000e+00, 2.871e-01,\n",
              "        7.039e-02]])"
            ]
          },
          "metadata": {},
          "execution_count": 30
        }
      ]
    },
    {
      "cell_type": "code",
      "source": [
        "Y=dataset.iloc[:,1].values\n",
        "Y"
      ],
      "metadata": {
        "id": "VMDY6QVbHICF",
        "colab": {
          "base_uri": "https://localhost:8080/"
        },
        "outputId": "b8b7fcec-76d0-4b0f-fdb8-7745af8ffa9e"
      },
      "execution_count": 31,
      "outputs": [
        {
          "output_type": "execute_result",
          "data": {
            "text/plain": [
              "array([1, 1, 1, 1, 1, 1, 1, 1, 1, 1, 1, 1, 1, 1, 1, 1, 1, 1, 1, 0, 0, 0,\n",
              "       1, 1, 1, 1, 1, 1, 1, 1, 1, 1, 1, 1, 1, 1, 1, 0, 1, 1, 1, 1, 1, 1,\n",
              "       1, 1, 0, 1, 0, 0, 0, 0, 0, 1, 1, 0, 1, 1, 0, 0, 0, 0, 1, 0, 1, 1,\n",
              "       0, 0, 0, 0, 1, 0, 1, 1, 0, 1, 0, 1, 1, 0, 0, 0, 1, 1, 0, 1, 1, 1,\n",
              "       0, 0, 0, 1, 0, 0, 1, 1, 0, 0, 0, 1, 1, 0, 0, 0, 0, 1, 0, 0, 1, 0,\n",
              "       0, 0, 0, 0, 0, 0, 0, 1, 1, 1, 0, 1, 1, 0, 0, 0, 1, 1, 0, 1, 0, 1,\n",
              "       1, 0, 1, 1, 0, 0, 1, 0, 0, 1, 0, 0, 0, 0, 1, 0, 0, 0, 0, 0, 0, 0,\n",
              "       0, 0, 1, 0, 0, 0, 0, 1, 1, 0, 1, 0, 0, 1, 1, 0, 0, 1, 1, 0, 0, 0,\n",
              "       0, 1, 0, 0, 1, 1, 1, 0, 1, 0, 1, 0, 0, 0, 1, 0, 0, 1, 1, 0, 1, 1,\n",
              "       1, 1, 0, 1, 1, 1, 0, 1, 0, 1, 0, 0, 1, 0, 1, 1, 1, 1, 0, 0, 1, 1,\n",
              "       0, 0, 0, 1, 0, 0, 0, 0, 0, 1, 1, 0, 0, 1, 0, 0, 1, 1, 0, 1, 0, 0,\n",
              "       0, 0, 1, 0, 0, 0, 0, 0, 1, 0, 1, 1, 1, 1, 1, 1, 1, 1, 1, 1, 1, 1,\n",
              "       1, 1, 0, 0, 0, 0, 0, 0, 1, 0, 1, 0, 0, 1, 0, 0, 1, 0, 1, 1, 0, 0,\n",
              "       0, 0, 0, 0, 0, 0, 0, 0, 0, 0, 0, 1, 0, 0, 1, 0, 1, 0, 0, 0, 0, 0,\n",
              "       0, 0, 0, 0, 0, 0, 0, 0, 0, 1, 0, 0, 0, 1, 0, 1, 0, 0, 0, 0, 1, 1,\n",
              "       1, 0, 0, 0, 0, 1, 0, 1, 0, 1, 0, 0, 0, 1, 0, 0, 0, 0, 0, 0, 0, 1,\n",
              "       1, 1, 0, 0, 0, 0, 0, 0, 0, 0, 0, 0, 0, 1, 1, 0, 1, 1, 1, 0, 1, 1,\n",
              "       0, 0, 0, 0, 0, 1, 0, 0, 0, 0, 0, 1, 0, 0, 0, 1, 0, 0, 1, 1, 0, 0,\n",
              "       0, 0, 0, 0, 1, 0, 0, 0, 0, 0, 0, 0, 1, 0, 0, 0, 0, 0, 1, 0, 0, 1,\n",
              "       0, 0, 0, 0, 0, 0, 0, 0, 0, 0, 0, 0, 1, 0, 1, 1, 0, 1, 0, 0, 0, 0,\n",
              "       0, 1, 0, 0, 1, 0, 1, 0, 0, 1, 0, 1, 0, 0, 0, 0, 0, 0, 0, 0, 1, 1,\n",
              "       0, 0, 0, 0, 0, 0, 1, 0, 0, 0, 0, 0, 0, 0, 0, 0, 0, 1, 0, 0, 0, 0,\n",
              "       0, 0, 0, 1, 0, 1, 0, 0, 1, 0, 0, 0, 0, 0, 1, 1, 0, 1, 0, 1, 0, 0,\n",
              "       0, 0, 0, 1, 0, 0, 1, 0, 1, 0, 1, 1, 0, 0, 0, 1, 0, 0, 0, 0, 0, 0,\n",
              "       0, 0, 0, 0, 0, 1, 0, 1, 1, 0, 0, 0, 0, 0, 0, 0, 0, 0, 0, 0, 0, 0,\n",
              "       0, 0, 0, 0, 0, 0, 0, 0, 0, 0, 0, 0, 1, 1, 1, 1, 1, 1, 0])"
            ]
          },
          "metadata": {},
          "execution_count": 31
        }
      ]
    },
    {
      "cell_type": "code",
      "source": [
        "#spliting  dataset\n",
        "X_train, X_test, Y_train, Y_test = train_test_split(X, Y, test_size = 0.25)"
      ],
      "metadata": {
        "id": "IF2OlNOz1zgm"
      },
      "execution_count": 32,
      "outputs": []
    },
    {
      "cell_type": "code",
      "source": [
        "#feature Scaling\n",
        "sc = StandardScaler()\n",
        "X_train=sc.fit_transform(X_train)\n",
        "X_test=sc.transform(X_test)\n",
        "print(X_train)\n",
        "print(X_test)"
      ],
      "metadata": {
        "colab": {
          "base_uri": "https://localhost:8080/"
        },
        "id": "jBzmIhXTA3AA",
        "outputId": "044575f9-f573-42b7-9bbf-3154aaebdc9b"
      },
      "execution_count": 33,
      "outputs": [
        {
          "output_type": "stream",
          "name": "stdout",
          "text": [
            "[[-0.85687349 -1.20120492 -0.86376505 ... -1.14642134 -0.51928856\n",
            "  -0.71427665]\n",
            " [-2.08983618 -1.35127504 -2.05241046 ... -1.75899356  0.05016143\n",
            "   0.5636507 ]\n",
            " [-0.77090109 -0.44147497 -0.75897373 ... -0.75907327 -0.50649193\n",
            "  -0.13153313]\n",
            " ...\n",
            " [-0.16909435 -0.10381721 -0.16226941 ...  0.46981972  0.98751451\n",
            "   0.17605598]\n",
            " [-0.06237     1.24212413  0.04947835 ...  0.61663713  1.20025847\n",
            "   1.88698663]\n",
            " [-1.48269321 -0.43678528 -1.40287745 ...  0.97430934  2.12321534\n",
            "   1.84374035]]\n",
            "[[-0.88651914 -0.99954821 -0.88844731 ... -0.70409483  0.48204767\n",
            "  -0.56886106]\n",
            " [-0.24320848  1.42033239 -0.30689876 ... -0.8210802  -0.73043294\n",
            "  -0.83860968]\n",
            " [ 2.24702633  0.72391326  2.30422393 ...  2.02389766  1.48338389\n",
            "   0.93556864]\n",
            " ...\n",
            " [-1.01696001 -0.0569203  -0.94863737 ... -0.52104163  0.06295806\n",
            "  -0.40668754]\n",
            " [-0.16316522  0.38156582 -0.12069929 ...  1.76774813 -0.1497859\n",
            "   1.28153881]\n",
            " [-0.65824762 -0.4227162  -0.68925719 ... -1.08644486  0.47884851\n",
            "  -0.9532123 ]]\n"
          ]
        }
      ]
    },
    {
      "cell_type": "code",
      "source": [
        "# Regression\n",
        "from sklearn.discriminant_analysis import LinearDiscriminantAnalysis\n",
        "from sklearn.linear_model import LinearRegression,LogisticRegression\n",
        "#decision tree\n",
        "from sklearn.tree import DecisionTreeClassifier\n",
        "#KNN\n",
        "from sklearn.neighbors import KNeighborsClassifier\n",
        "#naive_bayes\n",
        "from sklearn.naive_bayes import GaussianNB\n",
        "#svm\n",
        "from sklearn.svm import SVC, LinearSVC\n",
        "#randomforest classifier\n",
        "from sklearn.ensemble import RandomForestClassifier \n",
        "\n",
        "from sklearn.model_selection import cross_val_score\n",
        "from sklearn.model_selection import KFold, StratifiedKFold"
      ],
      "metadata": {
        "id": "ClaKfFtRBiXB"
      },
      "execution_count": 40,
      "outputs": []
    },
    {
      "cell_type": "code",
      "source": [
        "models=[]\n",
        "\n",
        "models.append(('LR',LogisticRegression(solver='liblinear',multi_class='ovr')))\n",
        "models.append(('LDA',LinearDiscriminantAnalysis()))\n",
        "models.append(('KNN',KNeighborsClassifier()))\n",
        "models.append(('CART',DecisionTreeClassifier()))\n",
        "models.append(('NB',GaussianNB()))\n",
        "models.append(('RF',RandomForestClassifier()))\n",
        "models.append(('SVM',SVC(gamma='auto')))\n",
        "\n",
        "models"
      ],
      "metadata": {
        "colab": {
          "base_uri": "https://localhost:8080/"
        },
        "id": "1NGCc6AgCPrw",
        "outputId": "5e3e885e-b267-4b61-e5e4-ed88fc4c46f1"
      },
      "execution_count": 44,
      "outputs": [
        {
          "output_type": "execute_result",
          "data": {
            "text/plain": [
              "[('LR', LogisticRegression(multi_class='ovr', solver='liblinear')),\n",
              " ('LDA', LinearDiscriminantAnalysis()),\n",
              " ('KNN', KNeighborsClassifier()),\n",
              " ('CART', DecisionTreeClassifier()),\n",
              " ('NB', GaussianNB()),\n",
              " ('RF', RandomForestClassifier()),\n",
              " ('SVM', SVC(gamma='auto'))]"
            ]
          },
          "metadata": {},
          "execution_count": 44
        }
      ]
    },
    {
      "cell_type": "code",
      "source": [
        "results = []\n",
        "names = []\n",
        "res = []\n",
        "\n",
        "for name, model in models:\n",
        "    kfold = StratifiedKFold(n_splits=10, shuffle=True,  random_state=None)\n",
        "    cv_results = cross_val_score(model, X_train, Y_train, cv=kfold, scoring='accuracy')\n",
        "    results.append(cv_results)\n",
        "    names.append(name)\n",
        "    res.append(cv_results.mean())\n",
        "    print('%s: %f' % (name,cv_results.mean()))\n",
        "\n",
        "pyplot.ylim(.900, .999)\n",
        "pyplot.bar(names, res, color='maroon', width=0.6)\n",
        "\n",
        "pyplot.title(\"Algorithm Comparison\")\n",
        "pyplot.show()\n"
      ],
      "metadata": {
        "id": "2UI8oHyHCKSm",
        "colab": {
          "base_uri": "https://localhost:8080/",
          "height": 403
        },
        "outputId": "0ae2fde9-f4dd-4813-9d7e-feb208be625b"
      },
      "execution_count": 45,
      "outputs": [
        {
          "output_type": "stream",
          "name": "stdout",
          "text": [
            "LR: 0.969269\n",
            "LDA: 0.955426\n",
            "KNN: 0.964784\n",
            "CART: 0.920044\n",
            "NB: 0.936711\n",
            "RF: 0.953378\n",
            "SVM: 0.978793\n"
          ]
        },
        {
          "output_type": "display_data",
          "data": {
            "text/plain": [
              "<Figure size 432x288 with 1 Axes>"
            ],
            "image/png": "[encoded data removed]"
          },
          "metadata": {
            "needs_background": "light"
          }
        }
      ]
    },
    {
      "cell_type": "code",
      "source": [
        "model.fit(X_train, Y_train)\n",
        "pred = model.predict(X_test)\n",
        "print(pred)"
      ],
      "metadata": {
        "colab": {
          "base_uri": "https://localhost:8080/"
        },
        "id": "P1Lv15TKPnk-",
        "outputId": "affcb0b1-b67b-4dfc-b95f-2c3204ad5037"
      },
      "execution_count": 46,
      "outputs": [
        {
          "output_type": "stream",
          "name": "stdout",
          "text": [
            "[0 0 1 0 0 0 0 0 0 0 0 1 0 1 0 1 1 1 0 0 0 1 1 1 1 1 1 0 0 0 0 0 0 1 1 1 1\n",
            " 0 0 0 0 0 1 1 1 0 1 0 0 0 0 0 1 0 1 1 0 0 0 1 1 0 1 0 0 0 0 0 1 0 0 1 1 0\n",
            " 0 1 1 1 1 0 1 0 0 0 1 0 0 0 1 0 0 1 0 0 0 0 1 0 0 0 0 0 0 0 0 1 0 1 1 0 1\n",
            " 1 0 1 0 1 0 1 0 0 0 1 1 0 0 0 1 1 0 1 0 0 1 0 1 0 0 0 0 1 0 1 0]\n"
          ]
        }
      ]
    },
    {
      "cell_type": "code",
      "source": [],
      "metadata": {
        "id": "yG91z1bj1zrp"
      },
      "execution_count": null,
      "outputs": []
    }
  ]
}